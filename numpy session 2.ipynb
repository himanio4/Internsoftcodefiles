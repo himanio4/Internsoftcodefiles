{
 "cells": [
  {
   "cell_type": "code",
   "execution_count": 1,
   "metadata": {},
   "outputs": [],
   "source": [
    "import numpy as np"
   ]
  },
  {
   "cell_type": "code",
   "execution_count": 2,
   "metadata": {},
   "outputs": [],
   "source": [
    "a=np.arange(15).reshape(3,5)"
   ]
  },
  {
   "cell_type": "code",
   "execution_count": 3,
   "metadata": {},
   "outputs": [
    {
     "data": {
      "text/plain": [
       "array([[ 0,  1,  2,  3,  4],\n",
       "       [ 5,  6,  7,  8,  9],\n",
       "       [10, 11, 12, 13, 14]])"
      ]
     },
     "execution_count": 3,
     "metadata": {},
     "output_type": "execute_result"
    }
   ],
   "source": [
    "a"
   ]
  },
  {
   "cell_type": "code",
   "execution_count": 4,
   "metadata": {},
   "outputs": [
    {
     "data": {
      "text/plain": [
       "array([[0, 1, 2, 3, 4],\n",
       "       [0, 0, 0, 0, 0],\n",
       "       [0, 0, 0, 0, 0]])"
      ]
     },
     "execution_count": 4,
     "metadata": {},
     "output_type": "execute_result"
    }
   ],
   "source": [
    "a[a>4]=0\n",
    "a"
   ]
  },
  {
   "cell_type": "code",
   "execution_count": 5,
   "metadata": {},
   "outputs": [
    {
     "data": {
      "text/plain": [
       "array([[-1,  1,  2,  3,  4],\n",
       "       [-1, -1, -1, -1, -1],\n",
       "       [-1, -1, -1, -1, -1]])"
      ]
     },
     "execution_count": 5,
     "metadata": {},
     "output_type": "execute_result"
    }
   ],
   "source": [
    "a[a==0]=-1\n",
    "a"
   ]
  },
  {
   "cell_type": "code",
   "execution_count": 6,
   "metadata": {},
   "outputs": [
    {
     "data": {
      "text/plain": [
       "array([[-1,  1,  2,  3,  4],\n",
       "       [-1, -1, -1, -1, -1],\n",
       "       [-1, -1, -1, -1, -1]])"
      ]
     },
     "execution_count": 6,
     "metadata": {},
     "output_type": "execute_result"
    }
   ],
   "source": [
    "a==-1\n",
    "a"
   ]
  },
  {
   "cell_type": "code",
   "execution_count": 7,
   "metadata": {},
   "outputs": [
    {
     "data": {
      "text/plain": [
       "array([[ 0,  1,  2,  3],\n",
       "       [ 0,  0,  0,  0],\n",
       "       [ 0,  0, 10, 11]])"
      ]
     },
     "execution_count": 7,
     "metadata": {},
     "output_type": "execute_result"
    }
   ],
   "source": [
    "a = np.arange(12).reshape(3,4)\n",
    "a[np.logical_and(a > 3, a <= 9)] = 0.0\n",
    "a"
   ]
  },
  {
   "cell_type": "code",
   "execution_count": 8,
   "metadata": {},
   "outputs": [
    {
     "data": {
      "text/plain": [
       "array([[False, False, False, False],\n",
       "       [False, False, False, False],\n",
       "       [False, False,  True,  True]])"
      ]
     },
     "execution_count": 8,
     "metadata": {},
     "output_type": "execute_result"
    }
   ],
   "source": [
    "a>4"
   ]
  },
  {
   "cell_type": "code",
   "execution_count": 9,
   "metadata": {},
   "outputs": [
    {
     "name": "stdout",
     "output_type": "stream",
     "text": [
      "(32,)\n",
      "(64,)\n"
     ]
    },
    {
     "data": {
      "text/plain": [
       "array([0.      , 0.015625, 0.03125 , 0.046875, 0.0625  , 0.078125,\n",
       "       0.09375 , 0.109375, 0.125   , 0.140625, 0.15625 , 0.171875,\n",
       "       0.1875  , 0.203125, 0.21875 , 0.234375, 0.25    , 0.265625,\n",
       "       0.28125 , 0.296875, 0.3125  , 0.328125, 0.34375 , 0.359375,\n",
       "       0.375   , 0.390625, 0.40625 , 0.421875, 0.4375  , 0.453125,\n",
       "       0.46875 , 0.484375, 0.5     , 0.515625, 0.53125 , 0.546875,\n",
       "       0.5625  , 0.578125, 0.59375 , 0.609375, 0.625   , 0.640625,\n",
       "       0.65625 , 0.671875, 0.6875  , 0.703125, 0.71875 , 0.734375,\n",
       "       0.75    , 0.765625, 0.78125 , 0.796875, 0.8125  , 0.828125,\n",
       "       0.84375 , 0.859375, 0.875   , 0.890625, 0.90625 , 0.921875,\n",
       "       0.9375  , 0.953125, 0.96875 , 0.984375])"
      ]
     },
     "execution_count": 9,
     "metadata": {},
     "output_type": "execute_result"
    }
   ],
   "source": [
    "M = 32\n",
    "N = 64\n",
    "xmin = ymin = 0.0\n",
    "xmax = ymax = 1.0\n",
    "\n",
    "x = np.linspace(xmin, xmax, M, endpoint=False)\n",
    "y = np.linspace(ymin, ymax, N, endpoint=False)\n",
    "\n",
    "print(x.shape)\n",
    "print(y.shape)\n",
    "y"
   ]
  },
  {
   "cell_type": "code",
   "execution_count": 10,
   "metadata": {},
   "outputs": [],
   "source": [
    "import time\n",
    "import numpy as np\n",
    "M = 32\n",
    "N = 64\n",
    "\n",
    "x = np.linspace(0.0, 1.0, M, endpoint=False)\n",
    "y = np.linspace(0.0, 1.0, N, endpoint=False)\n"
   ]
  },
  {
   "cell_type": "code",
   "execution_count": 11,
   "metadata": {},
   "outputs": [
    {
     "name": "stdout",
     "output_type": "stream",
     "text": [
      "time elapsed: 0.07572674751281738 s\n"
     ]
    }
   ],
   "source": [
    "t0 = time.time()\n",
    "\n",
    "g = np.zeros((M, N))\n",
    "\n",
    "for i in range(M):\n",
    "    for j in range(N):\n",
    "        g[i,j] = np.sin(2.0*np.pi*x[i]*y[j])\n",
    "        \n",
    "t1 = time.time()\n",
    "print(\"time elapsed: {} s\".format(t1-t0))"
   ]
  },
  {
   "cell_type": "code",
   "execution_count": 12,
   "metadata": {},
   "outputs": [
    {
     "name": "stdout",
     "output_type": "stream",
     "text": [
      "[0.      0.03125 0.0625  0.09375 0.125   0.15625 0.1875  0.21875 0.25\n",
      " 0.28125 0.3125  0.34375 0.375   0.40625 0.4375  0.46875 0.5     0.53125\n",
      " 0.5625  0.59375 0.625   0.65625 0.6875  0.71875 0.75    0.78125 0.8125\n",
      " 0.84375 0.875   0.90625 0.9375  0.96875]\n",
      "[0. 0. 0. 0. 0. 0. 0. 0. 0. 0. 0. 0. 0. 0. 0. 0. 0. 0. 0. 0. 0. 0. 0. 0.\n",
      " 0. 0. 0. 0. 0. 0. 0. 0. 0. 0. 0. 0. 0. 0. 0. 0. 0. 0. 0. 0. 0. 0. 0. 0.\n",
      " 0. 0. 0. 0. 0. 0. 0. 0. 0. 0. 0. 0. 0. 0. 0. 0.]\n",
      "[0. 0. 0. 0. 0. 0. 0. 0. 0. 0. 0. 0. 0. 0. 0. 0. 0. 0. 0. 0. 0. 0. 0. 0.\n",
      " 0. 0. 0. 0. 0. 0. 0. 0.]\n",
      "[0.       0.015625 0.03125  0.046875 0.0625   0.078125 0.09375  0.109375\n",
      " 0.125    0.140625 0.15625  0.171875 0.1875   0.203125 0.21875  0.234375\n",
      " 0.25     0.265625 0.28125  0.296875 0.3125   0.328125 0.34375  0.359375\n",
      " 0.375    0.390625 0.40625  0.421875 0.4375   0.453125 0.46875  0.484375\n",
      " 0.5      0.515625 0.53125  0.546875 0.5625   0.578125 0.59375  0.609375\n",
      " 0.625    0.640625 0.65625  0.671875 0.6875   0.703125 0.71875  0.734375\n",
      " 0.75     0.765625 0.78125  0.796875 0.8125   0.828125 0.84375  0.859375\n",
      " 0.875    0.890625 0.90625  0.921875 0.9375   0.953125 0.96875  0.984375]\n"
     ]
    }
   ],
   "source": [
    "x2d, y2d = np.meshgrid(x, y, indexing=\"ij\")\n",
    "\n",
    "print(x2d[:,0])\n",
    "print(x2d[0,:])\n",
    "\n",
    "print(y2d[:,0])\n",
    "print(y2d[0,:])"
   ]
  },
  {
   "cell_type": "code",
   "execution_count": 13,
   "metadata": {},
   "outputs": [
    {
     "name": "stdout",
     "output_type": "stream",
     "text": [
      "time elapsed: 0.042205095291137695 s\n"
     ]
    }
   ],
   "source": [
    "t0 = time.time()\n",
    "g2 = np.sin(2.0*np.pi*x2d*y2d)\n",
    "t1 = time.time()\n",
    "print(\"time elapsed: {} s\".format(t1-t0))"
   ]
  },
  {
   "cell_type": "code",
   "execution_count": 14,
   "metadata": {},
   "outputs": [
    {
     "data": {
      "text/plain": [
       "array([4, 3, 2, 1, 1, 2, 3, 4])"
      ]
     },
     "execution_count": 14,
     "metadata": {},
     "output_type": "execute_result"
    }
   ],
   "source": [
    "x = np.array([1, 2, 3, 4])\n",
    "y = np.array([4, 3, 2, 1])\n",
    "np.concatenate([y,x])"
   ]
  },
  {
   "cell_type": "code",
   "execution_count": 15,
   "metadata": {},
   "outputs": [
    {
     "name": "stdout",
     "output_type": "stream",
     "text": [
      "[1 2 3 4 4 3 2 1 9 4 6]\n"
     ]
    }
   ],
   "source": [
    "z = [9, 4, 6]\n",
    "print(np.concatenate([x, y, z]))"
   ]
  },
  {
   "cell_type": "code",
   "execution_count": 16,
   "metadata": {},
   "outputs": [],
   "source": [
    "grid = np.array([[10, 20, 30],\n",
    "                 [40, 50, 60]])"
   ]
  },
  {
   "cell_type": "code",
   "execution_count": 17,
   "metadata": {},
   "outputs": [
    {
     "data": {
      "text/plain": [
       "array([[10, 20, 30],\n",
       "       [40, 50, 60],\n",
       "       [10, 20, 30],\n",
       "       [40, 50, 60]])"
      ]
     },
     "execution_count": 17,
     "metadata": {},
     "output_type": "execute_result"
    }
   ],
   "source": [
    "np.concatenate([grid, grid])"
   ]
  },
  {
   "cell_type": "code",
   "execution_count": 18,
   "metadata": {},
   "outputs": [
    {
     "data": {
      "text/plain": [
       "array([[10, 20, 30, 10, 20, 30],\n",
       "       [40, 50, 60, 40, 50, 60]])"
      ]
     },
     "execution_count": 18,
     "metadata": {},
     "output_type": "execute_result"
    }
   ],
   "source": [
    "np.concatenate([grid, grid], axis=1)"
   ]
  },
  {
   "cell_type": "code",
   "execution_count": 19,
   "metadata": {},
   "outputs": [
    {
     "name": "stdout",
     "output_type": "stream",
     "text": [
      "[1 2 3] [4 4] [3 2 1] [9 4 6]\n"
     ]
    }
   ],
   "source": [
    "x = [1, 2, 3, 4, 4, 3 ,2, 1, 9, 4 ,6]\n",
    "x1, x2, x3,x4 = np.split(x, [3, 5,8])\n",
    "print(x1, x2, x3, x4)"
   ]
  },
  {
   "cell_type": "code",
   "execution_count": 20,
   "metadata": {},
   "outputs": [
    {
     "data": {
      "text/plain": [
       "array([[ 0,  1,  2,  3,  4],\n",
       "       [ 5,  6,  7,  8,  9],\n",
       "       [10, 11, 12, 13, 14],\n",
       "       [15, 16, 17, 18, 19],\n",
       "       [20, 21, 22, 23, 24]])"
      ]
     },
     "execution_count": 20,
     "metadata": {},
     "output_type": "execute_result"
    }
   ],
   "source": [
    "grid = np.arange(25).reshape((5, 5))\n",
    "grid"
   ]
  },
  {
   "cell_type": "code",
   "execution_count": 21,
   "metadata": {},
   "outputs": [
    {
     "name": "stdout",
     "output_type": "stream",
     "text": [
      "[[ 0  1]\n",
      " [ 5  6]\n",
      " [10 11]\n",
      " [15 16]\n",
      " [20 21]]\n",
      "[[ 2  3  4]\n",
      " [ 7  8  9]\n",
      " [12 13 14]\n",
      " [17 18 19]\n",
      " [22 23 24]]\n"
     ]
    }
   ],
   "source": [
    "left, right = np.hsplit(grid, [2])\n",
    "print(left)\n",
    "print(right)"
   ]
  },
  {
   "cell_type": "code",
   "execution_count": 22,
   "metadata": {},
   "outputs": [
    {
     "name": "stdout",
     "output_type": "stream",
     "text": [
      "[1 2 3 4 5 6 7 8]\n"
     ]
    },
    {
     "data": {
      "text/plain": [
       "36"
      ]
     },
     "execution_count": 22,
     "metadata": {},
     "output_type": "execute_result"
    }
   ],
   "source": [
    "x = np.arange(1, 9)\n",
    "print(x)\n",
    "np.add.reduce(x)"
   ]
  },
  {
   "cell_type": "code",
   "execution_count": 23,
   "metadata": {},
   "outputs": [
    {
     "data": {
      "text/plain": [
       "40320"
      ]
     },
     "execution_count": 23,
     "metadata": {},
     "output_type": "execute_result"
    }
   ],
   "source": [
    "np.multiply.reduce(x)"
   ]
  },
  {
   "cell_type": "code",
   "execution_count": 24,
   "metadata": {},
   "outputs": [
    {
     "data": {
      "text/plain": [
       "array([ 1,  3,  6, 10, 15, 21, 28, 36], dtype=int32)"
      ]
     },
     "execution_count": 24,
     "metadata": {},
     "output_type": "execute_result"
    }
   ],
   "source": [
    "np.add.accumulate(x)"
   ]
  },
  {
   "cell_type": "code",
   "execution_count": 25,
   "metadata": {},
   "outputs": [
    {
     "data": {
      "text/plain": [
       "array([    1,     2,     6,    24,   120,   720,  5040, 40320],\n",
       "      dtype=int32)"
      ]
     },
     "execution_count": 25,
     "metadata": {},
     "output_type": "execute_result"
    }
   ],
   "source": [
    "np.multiply.accumulate(x)"
   ]
  },
  {
   "cell_type": "code",
   "execution_count": null,
   "metadata": {},
   "outputs": [],
   "source": []
  }
 ],
 "metadata": {
  "kernelspec": {
   "display_name": "Python 3",
   "language": "python",
   "name": "python3"
  },
  "language_info": {
   "codemirror_mode": {
    "name": "ipython",
    "version": 3
   },
   "file_extension": ".py",
   "mimetype": "text/x-python",
   "name": "python",
   "nbconvert_exporter": "python",
   "pygments_lexer": "ipython3",
   "version": "3.8.5"
  }
 },
 "nbformat": 4,
 "nbformat_minor": 4
}
