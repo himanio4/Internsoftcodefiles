{
 "cells": [
  {
   "cell_type": "code",
   "execution_count": 1,
   "metadata": {},
   "outputs": [],
   "source": [
    "import os\n",
    "import time\n",
    "import subprocess\n",
    "import json"
   ]
  },
  {
   "cell_type": "code",
   "execution_count": 2,
   "metadata": {},
   "outputs": [],
   "source": [
    "import wolframalpha\n",
    "import requests\n",
    "import webbrowser\n",
    "import wikipedia\n",
    "import datetime"
   ]
  },
  {
   "cell_type": "code",
   "execution_count": 3,
   "metadata": {},
   "outputs": [],
   "source": [
    "import speech_recognition as sr\n",
    "import pyttsx3"
   ]
  },
  {
   "cell_type": "code",
   "execution_count": 4,
   "metadata": {},
   "outputs": [
    {
     "name": "stdout",
     "output_type": "stream",
     "text": [
      "loading personel assistant javis\n"
     ]
    }
   ],
   "source": [
    "print('loading personel assistant javis')"
   ]
  },
  {
   "cell_type": "code",
   "execution_count": 5,
   "metadata": {},
   "outputs": [],
   "source": [
    "engine=pyttsx3.init('sapi5')\n",
    "voices=engine.getProperty('voices')\n",
    "engine.setProperty(\"voice\",'voice[0].id')"
   ]
  },
  {
   "cell_type": "code",
   "execution_count": 6,
   "metadata": {},
   "outputs": [],
   "source": [
    "def speak(text):\n",
    "    engine.say(text)\n",
    "    engine.runAndWait()"
   ]
  },
  {
   "cell_type": "code",
   "execution_count": 7,
   "metadata": {},
   "outputs": [],
   "source": [
    "def wishMe():\n",
    "    hour=datetime.datetime.now().hour\n",
    "    if hour>=0 and hour<12:\n",
    "        speak(\"hello, good morning!!!\")\n",
    "        print(\"hello, good morning!!!\")\n",
    "    elif hour>=12 and hour<=18:\n",
    "        speak(\"hello, good evening ms. himani singh\")\n",
    "        print(\"hello, good evening ms. himani singh\")\n",
    "    else:\n",
    "        speak(\"good night\")\n",
    "        print(\"good night\")"
   ]
  },
  {
   "cell_type": "code",
   "execution_count": 8,
   "metadata": {},
   "outputs": [],
   "source": [
    "def takeCommand():\n",
    "    r=sr.Recognizer()\n",
    "    with sr.Microphone() as source:\n",
    "        print(\"iam listening\")\n",
    "        audio=r.listen(source)\n",
    "        try:\n",
    "            statement=r.recognize_google(audio,language=\"en-in\")\n",
    "            print(f\"user said:{statement}\\n\")\n",
    "        except Exception as e:\n",
    "            speak(\"sorry, please say it again\")\n",
    "            return \"None\"\n",
    "        return statement\n",
    "            \n",
    "        \n",
    "    "
   ]
  },
  {
   "cell_type": "code",
   "execution_count": 9,
   "metadata": {},
   "outputs": [
    {
     "name": "stdout",
     "output_type": "stream",
     "text": [
      "good night\n"
     ]
    }
   ],
   "source": [
    "speak(\"loading your personel asssitant javris\")\n",
    "wishMe()"
   ]
  },
  {
   "cell_type": "code",
   "execution_count": null,
   "metadata": {},
   "outputs": [
    {
     "name": "stdout",
     "output_type": "stream",
     "text": [
      "iam listening\n",
      "iam listening\n",
      "iam listening\n",
      "iam listening\n",
      "iam listening\n",
      "iam listening\n",
      "user said:theek hai bhai\n",
      "\n",
      "iam listening\n"
     ]
    }
   ],
   "source": [
    "if __name__=='__main__':\n",
    "    while True:\n",
    "        speak(\"how can i help u himani\")\n",
    "        statement=takeCommand().lower()\n",
    "        if statement==0:\n",
    "            continue\n",
    "        if \"good bye\" in statement or \"ok bye\" in statement or \"stop\" in statement:\n",
    "            speak(\"javris is shutting down\")\n",
    "            break  \n",
    "        if 'wikipedia' in statement:\n",
    "            speak(\"searchingwikipedia.....\")\n",
    "            statement=statement.replace(\"wikipedia\",\" \")\n",
    "            results=wikipedia.summary(statement,sentences=3)\n",
    "            speak(\"according to wikipedia\")\n",
    "            print(results)\n",
    "            speak(results)\n",
    "        elif \"open youtube\" in statement:\n",
    "            webbrowser.open_new_tab(\"https://www.youtube.com\")\n",
    "            speak(\"youtube is opend for u\")\n",
    "            time.sleep(5)\n",
    "        elif \"open google\" in statement:\n",
    "            webbrowser.open_new_tab(\"https://www.google.com\")\n",
    "            speak(\"youtube is opend for u\")\n",
    "            time.sleep(5)\n",
    "        elif \"open gmail\" in statement:   \n",
    "            webbrowser.open_new_tab(\"gmail.com\")\n",
    "            speak(\"gmail is opend for u\")\n",
    "            time.sleep(5)\n",
    "        elif \"weather\" in statement: \n",
    "            api_key='8ef61edcf1c576d65d836254e11ea420'\n",
    "            base_url='https://api.openweathermap.org/data/2.5/weather?”'\n",
    "            speak(\"whast the city name\")\n",
    "            city_name=takeCommand()\n",
    "            complete_url=base_url + \"appid=\"+api_key+\"&q=\"+city_name\n",
    "            response=requests.get(complete_url)\n",
    "            x=response.json()\n",
    "            if x[\"cod\"]!=\"404\":\n",
    "                y=x[\"main\"]\n",
    "                current_temperature=y[\"temp\"]\n",
    "                current_humidity=y[\"humidity\"]\n",
    "                z=x[\"weather\"]\n",
    "                weather_description=z[0][\"description\"]\n",
    "                speak(\"the temperature in kelvin is \" +str(current_temperature)+\"\\nhumidity in percentage is\"+str(current_humidity)+\"\\nweather \"+str(weather_description))\n",
    "                print(\"the temperature in kelvin is \" +str(current_temperature)+\"\\nhumidity in percentage is\"+str(current_humidity)+\"\\nweather \"+str(weather_description))\n",
    "            else:\n",
    "                speak(\"city not found\")\n",
    "        elif \"time\" in statement:   \n",
    "            strTime=datatime.datatime.now().strtime(\"%H:%M:%S\")\n",
    "            speak(f\"time is{strTime}\")\n",
    "        elif \"who are you\" in statement or \"what can you do\" in statement:\n",
    "            speak(\"i am javris\")\n",
    "        elif \"open stack overflow\" in statement:\n",
    "            webbrowser.open_new_tab(\"https://www.stackoverflow.com/login\")\n",
    "            time.sleep(5)\n",
    "        elif \"news\" in statement:\n",
    "            news=webbrowser.open_new_tab(\"https://timesofindia.indiatimes.com/home/head\")\n",
    "        elif \"search\" in statement:\n",
    "            statement=statement.replace(\"search\",\" \")\n",
    "            webbrowser.open_new_tab(\"statement\")\n",
    "            time.sleep(5)\n",
    "        elif \"ask\" in statement:\n",
    "            speak(\"i can answer to computation and geographical questions too, just try me\")\n",
    "            question=takeCommand()\n",
    "            app_id=\"R2K75H-7ELALHR35X\"\n",
    "            client=wolframalpha.Client('R2K75H-7ELALHR35X')\n",
    "            res=client.query(question)\n",
    "            answer=next(res.results).text\n",
    "            speak(answer)\n",
    "            print(answer)\n",
    "        elif \"log off\" in statement or \"sign out\" in statement or \"shut down\" in statement:\n",
    "            speak(\"ok, your pc will shut in 10sec\")\n",
    "            subprocess.call(['shutdown',\"/1\"])\n",
    "time.sleep(3)            "
   ]
  },
  {
   "cell_type": "code",
   "execution_count": null,
   "metadata": {},
   "outputs": [],
   "source": []
  }
 ],
 "metadata": {
  "kernelspec": {
   "display_name": "Python 3",
   "language": "python",
   "name": "python3"
  },
  "language_info": {
   "codemirror_mode": {
    "name": "ipython",
    "version": 3
   },
   "file_extension": ".py",
   "mimetype": "text/x-python",
   "name": "python",
   "nbconvert_exporter": "python",
   "pygments_lexer": "ipython3",
   "version": "3.8.5"
  }
 },
 "nbformat": 4,
 "nbformat_minor": 4
}
